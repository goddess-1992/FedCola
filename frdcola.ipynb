{
  "nbformat": 4,
  "nbformat_minor": 0,
  "metadata": {
    "colab": {
      "provenance": [],
      "mount_file_id": "10ek7JUnj_jP36POzEdxiOknswvTu_q6R",
      "authorship_tag": "ABX9TyOzZpOV7kuMow5c1BdrOBaO",
      "include_colab_link": true
    },
    "kernelspec": {
      "name": "python3",
      "display_name": "Python 3"
    },
    "language_info": {
      "name": "python"
    }
  },
  "cells": [
    {
      "cell_type": "markdown",
      "metadata": {
        "id": "view-in-github",
        "colab_type": "text"
      },
      "source": [
        "<a href=\"https://colab.research.google.com/github/goddess-1992/FedCola/blob/main/frdcola.ipynb\" target=\"_parent\"><img src=\"https://colab.research.google.com/assets/colab-badge.svg\" alt=\"Open In Colab\"/></a>"
      ]
    },
    {
      "cell_type": "code",
      "source": [
        "# نصب پایتون 3.8\n",
        "!sudo apt-get update -y\n",
        "!sudo apt-get install python3.8\n",
        "\n",
        "!sudo update-alternatives --install /usr/bin/python3 python3 /usr/bin/python3.8 1\n",
        "!sudo update-alternatives --config python3\n",
        "\n",
        "!sudo apt-get install python3.8-distutils\n",
        "!wget https://bootstrap.pypa.io/pip/3.8/get-pip.py\n",
        "!python3 get-pip.py\n"
      ],
      "metadata": {
        "colab": {
          "base_uri": "https://localhost:8080/"
        },
        "id": "se3iX5iBRXNC",
        "outputId": "ab3bc9c4-bf81-483b-eece-4c49dd9628bb"
      },
      "execution_count": 1,
      "outputs": [
        {
          "output_type": "stream",
          "name": "stdout",
          "text": [
            "Get:1 http://security.ubuntu.com/ubuntu jammy-security InRelease [129 kB]\n",
            "Get:2 https://cloud.r-project.org/bin/linux/ubuntu jammy-cran40/ InRelease [3,632 B]\n",
            "Get:3 https://developer.download.nvidia.com/compute/cuda/repos/ubuntu2204/x86_64  InRelease [1,581 B]\n",
            "Get:4 https://r2u.stat.illinois.edu/ubuntu jammy InRelease [6,555 B]\n",
            "Hit:5 http://archive.ubuntu.com/ubuntu jammy InRelease\n",
            "Get:6 http://archive.ubuntu.com/ubuntu jammy-updates InRelease [128 kB]\n",
            "Hit:7 https://ppa.launchpadcontent.net/deadsnakes/ppa/ubuntu jammy InRelease\n",
            "Hit:8 https://ppa.launchpadcontent.net/graphics-drivers/ppa/ubuntu jammy InRelease\n",
            "Get:9 http://security.ubuntu.com/ubuntu jammy-security/main amd64 Packages [2,934 kB]\n",
            "Get:10 https://ppa.launchpadcontent.net/ubuntugis/ppa/ubuntu jammy InRelease [24.6 kB]\n",
            "Get:11 http://archive.ubuntu.com/ubuntu jammy-backports InRelease [127 kB]\n",
            "Get:12 https://developer.download.nvidia.com/compute/cuda/repos/ubuntu2204/x86_64  Packages [1,683 kB]\n",
            "Get:13 http://security.ubuntu.com/ubuntu jammy-security/restricted amd64 Packages [4,363 kB]\n",
            "Get:14 https://r2u.stat.illinois.edu/ubuntu jammy/main all Packages [8,944 kB]\n",
            "Get:15 https://r2u.stat.illinois.edu/ubuntu jammy/main amd64 Packages [2,725 kB]\n",
            "Get:16 http://archive.ubuntu.com/ubuntu jammy-updates/restricted amd64 Packages [4,517 kB]\n",
            "Get:17 https://ppa.launchpadcontent.net/ubuntugis/ppa/ubuntu jammy/main amd64 Packages [77.3 kB]\n",
            "Get:18 http://archive.ubuntu.com/ubuntu jammy-updates/main amd64 Packages [3,245 kB]\n",
            "Get:19 http://archive.ubuntu.com/ubuntu jammy-updates/universe amd64 Packages [1,546 kB]\n",
            "Get:20 http://archive.ubuntu.com/ubuntu jammy-backports/main amd64 Packages [83.2 kB]\n",
            "Get:21 http://archive.ubuntu.com/ubuntu jammy-backports/universe amd64 Packages [35.2 kB]\n",
            "Fetched 30.6 MB in 7s (4,229 kB/s)\n",
            "Reading package lists... Done\n",
            "W: Skipping acquire of configured file 'main/source/Sources' as repository 'https://r2u.stat.illinois.edu/ubuntu jammy InRelease' does not seem to provide it (sources.list entry misspelt?)\n",
            "Reading package lists... Done\n",
            "Building dependency tree... Done\n",
            "Reading state information... Done\n",
            "The following additional packages will be installed:\n",
            "  libpython3.8-minimal libpython3.8-stdlib python3.8-minimal\n",
            "Suggested packages:\n",
            "  python3.8-venv binfmt-support\n",
            "The following NEW packages will be installed:\n",
            "  libpython3.8-minimal libpython3.8-stdlib python3.8 python3.8-minimal\n",
            "0 upgraded, 4 newly installed, 0 to remove and 89 not upgraded.\n",
            "Need to get 5,076 kB of archives.\n",
            "After this operation, 18.8 MB of additional disk space will be used.\n",
            "Get:1 https://ppa.launchpadcontent.net/deadsnakes/ppa/ubuntu jammy/main amd64 libpython3.8-minimal amd64 3.8.20-1+jammy1 [796 kB]\n",
            "Get:2 https://ppa.launchpadcontent.net/deadsnakes/ppa/ubuntu jammy/main amd64 python3.8-minimal amd64 3.8.20-1+jammy1 [2,023 kB]\n",
            "Get:3 https://ppa.launchpadcontent.net/deadsnakes/ppa/ubuntu jammy/main amd64 libpython3.8-stdlib amd64 3.8.20-1+jammy1 [1,817 kB]\n",
            "Get:4 https://ppa.launchpadcontent.net/deadsnakes/ppa/ubuntu jammy/main amd64 python3.8 amd64 3.8.20-1+jammy1 [440 kB]\n",
            "Fetched 5,076 kB in 2s (3,106 kB/s)\n",
            "debconf: unable to initialize frontend: Dialog\n",
            "debconf: (No usable dialog-like program is installed, so the dialog based frontend cannot be used. at /usr/share/perl5/Debconf/FrontEnd/Dialog.pm line 78, <> line 4.)\n",
            "debconf: falling back to frontend: Readline\n",
            "debconf: unable to initialize frontend: Readline\n",
            "debconf: (This frontend requires a controlling tty.)\n",
            "debconf: falling back to frontend: Teletype\n",
            "dpkg-preconfigure: unable to re-open stdin: \n",
            "Selecting previously unselected package libpython3.8-minimal:amd64.\n",
            "(Reading database ... 126102 files and directories currently installed.)\n",
            "Preparing to unpack .../libpython3.8-minimal_3.8.20-1+jammy1_amd64.deb ...\n",
            "Unpacking libpython3.8-minimal:amd64 (3.8.20-1+jammy1) ...\n",
            "Selecting previously unselected package python3.8-minimal.\n",
            "Preparing to unpack .../python3.8-minimal_3.8.20-1+jammy1_amd64.deb ...\n",
            "Unpacking python3.8-minimal (3.8.20-1+jammy1) ...\n",
            "Selecting previously unselected package libpython3.8-stdlib:amd64.\n",
            "Preparing to unpack .../libpython3.8-stdlib_3.8.20-1+jammy1_amd64.deb ...\n",
            "Unpacking libpython3.8-stdlib:amd64 (3.8.20-1+jammy1) ...\n",
            "Selecting previously unselected package python3.8.\n",
            "Preparing to unpack .../python3.8_3.8.20-1+jammy1_amd64.deb ...\n",
            "Unpacking python3.8 (3.8.20-1+jammy1) ...\n",
            "Setting up libpython3.8-minimal:amd64 (3.8.20-1+jammy1) ...\n",
            "Setting up python3.8-minimal (3.8.20-1+jammy1) ...\n",
            "Setting up libpython3.8-stdlib:amd64 (3.8.20-1+jammy1) ...\n",
            "Setting up python3.8 (3.8.20-1+jammy1) ...\n",
            "Processing triggers for man-db (2.10.2-1) ...\n",
            "Processing triggers for mailcap (3.70+nmu1ubuntu1) ...\n",
            "There are 3 choices for the alternative python3 (providing /usr/bin/python3).\n",
            "\n",
            "  Selection    Path                 Priority   Status\n",
            "------------------------------------------------------------\n",
            "* 0            /usr/bin/python3.11   2         auto mode\n",
            "  1            /usr/bin/python3.10   1         manual mode\n",
            "  2            /usr/bin/python3.11   2         manual mode\n",
            "  3            /usr/bin/python3.8    1         manual mode\n",
            "\n",
            "Press <enter> to keep the current choice[*], or type selection number: 3\n",
            "update-alternatives: using /usr/bin/python3.8 to provide /usr/bin/python3 (python3) in manual mode\n",
            "Reading package lists... Done\n",
            "Building dependency tree... Done\n",
            "Reading state information... Done\n",
            "The following additional packages will be installed:\n",
            "  python3.8-lib2to3\n",
            "The following NEW packages will be installed:\n",
            "  python3.8-distutils python3.8-lib2to3\n",
            "0 upgraded, 2 newly installed, 0 to remove and 89 not upgraded.\n",
            "Need to get 319 kB of archives.\n",
            "After this operation, 1,237 kB of additional disk space will be used.\n",
            "Get:1 https://ppa.launchpadcontent.net/deadsnakes/ppa/ubuntu jammy/main amd64 python3.8-lib2to3 all 3.8.20-1+jammy1 [126 kB]\n",
            "Get:2 https://ppa.launchpadcontent.net/deadsnakes/ppa/ubuntu jammy/main amd64 python3.8-distutils all 3.8.20-1+jammy1 [193 kB]\n",
            "Fetched 319 kB in 1s (285 kB/s)\n",
            "debconf: unable to initialize frontend: Dialog\n",
            "debconf: (No usable dialog-like program is installed, so the dialog based frontend cannot be used. at /usr/share/perl5/Debconf/FrontEnd/Dialog.pm line 78, <> line 2.)\n",
            "debconf: falling back to frontend: Readline\n",
            "debconf: unable to initialize frontend: Readline\n",
            "debconf: (This frontend requires a controlling tty.)\n",
            "debconf: falling back to frontend: Teletype\n",
            "dpkg-preconfigure: unable to re-open stdin: \n",
            "Selecting previously unselected package python3.8-lib2to3.\n",
            "(Reading database ... 126728 files and directories currently installed.)\n",
            "Preparing to unpack .../python3.8-lib2to3_3.8.20-1+jammy1_all.deb ...\n",
            "Unpacking python3.8-lib2to3 (3.8.20-1+jammy1) ...\n",
            "Selecting previously unselected package python3.8-distutils.\n",
            "Preparing to unpack .../python3.8-distutils_3.8.20-1+jammy1_all.deb ...\n",
            "Unpacking python3.8-distutils (3.8.20-1+jammy1) ...\n",
            "Setting up python3.8-lib2to3 (3.8.20-1+jammy1) ...\n",
            "Setting up python3.8-distutils (3.8.20-1+jammy1) ...\n",
            "--2025-05-18 08:07:28--  https://bootstrap.pypa.io/pip/3.8/get-pip.py\n",
            "Resolving bootstrap.pypa.io (bootstrap.pypa.io)... 151.101.0.175, 151.101.64.175, 151.101.128.175, ...\n",
            "Connecting to bootstrap.pypa.io (bootstrap.pypa.io)|151.101.0.175|:443... connected.\n",
            "HTTP request sent, awaiting response... 200 OK\n",
            "Length: 2300180 (2.2M) [text/x-python]\n",
            "Saving to: ‘get-pip.py’\n",
            "\n",
            "get-pip.py          100%[===================>]   2.19M  --.-KB/s    in 0.08s   \n",
            "\n",
            "2025-05-18 08:07:28 (29.2 MB/s) - ‘get-pip.py’ saved [2300180/2300180]\n",
            "\n",
            "Collecting pip<25.1\n",
            "  Downloading pip-25.0.1-py3-none-any.whl.metadata (3.7 kB)\n",
            "Collecting setuptools\n",
            "  Downloading setuptools-75.3.2-py3-none-any.whl.metadata (6.9 kB)\n",
            "Collecting wheel\n",
            "  Downloading wheel-0.45.1-py3-none-any.whl.metadata (2.3 kB)\n",
            "Downloading pip-25.0.1-py3-none-any.whl (1.8 MB)\n",
            "\u001b[2K   \u001b[90m━━━━━━━━━━━━━━━━━━━━━━━━━━━━━━━━━━━━━━━━\u001b[0m \u001b[32m1.8/1.8 MB\u001b[0m \u001b[31m29.6 MB/s\u001b[0m eta \u001b[36m0:00:00\u001b[0m\n",
            "\u001b[?25hDownloading setuptools-75.3.2-py3-none-any.whl (1.3 MB)\n",
            "\u001b[2K   \u001b[90m━━━━━━━━━━━━━━━━━━━━━━━━━━━━━━━━━━━━━━━━\u001b[0m \u001b[32m1.3/1.3 MB\u001b[0m \u001b[31m44.3 MB/s\u001b[0m eta \u001b[36m0:00:00\u001b[0m\n",
            "\u001b[?25hDownloading wheel-0.45.1-py3-none-any.whl (72 kB)\n",
            "Installing collected packages: wheel, setuptools, pip\n",
            "Successfully installed pip-25.0.1 setuptools-75.3.2 wheel-0.45.1\n"
          ]
        }
      ]
    },
    {
      "cell_type": "code",
      "source": [
        "!python3 --version\n",
        "!pip --version\n"
      ],
      "metadata": {
        "colab": {
          "base_uri": "https://localhost:8080/"
        },
        "id": "nqX4QZjuRhQA",
        "outputId": "5a66baf6-9ee3-4762-b23b-69ca9786f20d"
      },
      "execution_count": 2,
      "outputs": [
        {
          "output_type": "stream",
          "name": "stdout",
          "text": [
            "Python 3.8.20\n",
            "pip 25.0.1 from /usr/local/lib/python3.8/dist-packages/pip (python 3.8)\n"
          ]
        }
      ]
    },
    {
      "cell_type": "code",
      "execution_count": 3,
      "metadata": {
        "colab": {
          "base_uri": "https://localhost:8080/"
        },
        "id": "S8aA3ikF7URD",
        "outputId": "d4b2191d-e22a-493f-d177-2ed09ddf3b32"
      },
      "outputs": [
        {
          "output_type": "stream",
          "name": "stdout",
          "text": [
            "Cloning into 'FedCola'...\n",
            "remote: Enumerating objects: 89, done.\u001b[K\n",
            "remote: Counting objects: 100% (89/89), done.\u001b[K\n",
            "remote: Compressing objects: 100% (69/69), done.\u001b[K\n",
            "remote: Total 89 (delta 15), reused 83 (delta 14), pack-reused 0 (from 0)\u001b[K\n",
            "Receiving objects: 100% (89/89), 12.29 MiB | 14.06 MiB/s, done.\n",
            "Resolving deltas: 100% (15/15), done.\n"
          ]
        }
      ],
      "source": [
        "!git clone https://github.com/imguangyu/FedCola.git"
      ]
    },
    {
      "cell_type": "code",
      "source": [
        "! pip install -r /content/FedCola/requirments.txt"
      ],
      "metadata": {
        "id": "83kF4KwC7bGB"
      },
      "execution_count": null,
      "outputs": []
    },
    {
      "cell_type": "code",
      "source": [
        "!wget \"https://github.com/awsaf49/flickr-dataset/releases/download/v1.0/flickr30k_part00\"\n",
        "!wget \"https://github.com/awsaf49/flickr-dataset/releases/download/v1.0/flickr30k_part01\"\n",
        "!wget \"https://github.com/awsaf49/flickr-dataset/releases/download/v1.0/flickr30k_part02\"\n",
        "!cat flickr30k_part00 flickr30k_part01 flickr30k_part02 > flickr30k.zip\n",
        "!rm flickr30k_part00 flickr30k_part01 flickr30k_part02\n",
        "!unzip -q flickr30k.zip -d /content/FedCola/data/flickr30k/\n",
        "!rm flickr30k.zip\n",
        "!echo \"Downloaded Flickr30k dataset successfully.\""
      ],
      "metadata": {
        "id": "Veo1KFhOOAyS"
      },
      "execution_count": null,
      "outputs": []
    },
    {
      "cell_type": "code",
      "source": [
        "# !wget http://images.cocodataset.org/zips/train2014.zip\n",
        "# !wget http://images.cocodataset.org/zips/val2014.zip\n",
        "# !wget http://images.cocodataset.org/annotations/annotations_trainval2014.zip\n",
        "!unzip -q /content/train2014.zip -d /content/FedCola/data/coco/\n",
        "!unzip -q val2014.zip -d /content/FedCola/data/coco/\n",
        "!unzip -q annotations_trainval2014.zip -d /content/FedCola/data/coco/"
      ],
      "metadata": {
        "id": "IyjnsWreSeWR"
      },
      "execution_count": 12,
      "outputs": []
    },
    {
      "cell_type": "code",
      "source": [
        "!rm -rf /content/FedCola/data/coco/all_images/train2014\n",
        "!rm -rf /content/FedCola/data/coco/all_images/val2014"
      ],
      "metadata": {
        "id": "ofjdMtniiAFr"
      },
      "execution_count": 14,
      "outputs": []
    },
    {
      "cell_type": "code",
      "source": [
        "import wandb\n",
        "wandb.init()"
      ],
      "metadata": {
        "colab": {
          "base_uri": "https://localhost:8080/",
          "height": 301
        },
        "id": "xt2nDKT2O_NL",
        "outputId": "602f7822-1464-4571-c2ed-11ce4d93b0f6"
      },
      "execution_count": 15,
      "outputs": [
        {
          "output_type": "display_data",
          "data": {
            "text/plain": [
              "<IPython.core.display.Javascript object>"
            ],
            "application/javascript": [
              "\n",
              "        window._wandbApiKey = new Promise((resolve, reject) => {\n",
              "            function loadScript(url) {\n",
              "            return new Promise(function(resolve, reject) {\n",
              "                let newScript = document.createElement(\"script\");\n",
              "                newScript.onerror = reject;\n",
              "                newScript.onload = resolve;\n",
              "                document.body.appendChild(newScript);\n",
              "                newScript.src = url;\n",
              "            });\n",
              "            }\n",
              "            loadScript(\"https://cdn.jsdelivr.net/npm/postmate/build/postmate.min.js\").then(() => {\n",
              "            const iframe = document.createElement('iframe')\n",
              "            iframe.style.cssText = \"width:0;height:0;border:none\"\n",
              "            document.body.appendChild(iframe)\n",
              "            const handshake = new Postmate({\n",
              "                container: iframe,\n",
              "                url: 'https://wandb.ai/authorize'\n",
              "            });\n",
              "            const timeout = setTimeout(() => reject(\"Couldn't auto authenticate\"), 5000)\n",
              "            handshake.then(function(child) {\n",
              "                child.on('authorize', data => {\n",
              "                    clearTimeout(timeout)\n",
              "                    resolve(data)\n",
              "                });\n",
              "            });\n",
              "            })\n",
              "        });\n",
              "    "
            ]
          },
          "metadata": {}
        },
        {
          "output_type": "stream",
          "name": "stderr",
          "text": [
            "\u001b[34m\u001b[1mwandb\u001b[0m: Logging into wandb.ai. (Learn how to deploy a W&B server locally: https://wandb.me/wandb-server)\n",
            "\u001b[34m\u001b[1mwandb\u001b[0m: You can find your API key in your browser here: https://wandb.ai/authorize?ref=models\n",
            "wandb: Paste an API key from your profile and hit enter:"
          ]
        },
        {
          "name": "stdout",
          "output_type": "stream",
          "text": [
            " ··········\n"
          ]
        },
        {
          "output_type": "stream",
          "name": "stderr",
          "text": [
            "\u001b[34m\u001b[1mwandb\u001b[0m: \u001b[33mWARNING\u001b[0m If you're specifying your api key in code, ensure this code is not shared publicly.\n",
            "\u001b[34m\u001b[1mwandb\u001b[0m: \u001b[33mWARNING\u001b[0m Consider setting the WANDB_API_KEY environment variable, or running `wandb login` from the command line.\n",
            "\u001b[34m\u001b[1mwandb\u001b[0m: No netrc file found, creating one.\n",
            "\u001b[34m\u001b[1mwandb\u001b[0m: Appending key for api.wandb.ai to your netrc file: /root/.netrc\n",
            "\u001b[34m\u001b[1mwandb\u001b[0m: Currently logged in as: \u001b[33me-rahpeyma92\u001b[0m (\u001b[33me-rahpeyma92-kntu\u001b[0m) to \u001b[32mhttps://api.wandb.ai\u001b[0m. Use \u001b[1m`wandb login --relogin`\u001b[0m to force relogin\n"
          ]
        },
        {
          "output_type": "display_data",
          "data": {
            "text/plain": [
              "<IPython.core.display.HTML object>"
            ],
            "text/html": [
              "Tracking run with wandb version 0.19.11"
            ]
          },
          "metadata": {}
        },
        {
          "output_type": "display_data",
          "data": {
            "text/plain": [
              "<IPython.core.display.HTML object>"
            ],
            "text/html": [
              "Run data is saved locally in <code>/content/wandb/run-20250518_083946-2pjayrzi</code>"
            ]
          },
          "metadata": {}
        },
        {
          "output_type": "display_data",
          "data": {
            "text/plain": [
              "<IPython.core.display.HTML object>"
            ],
            "text/html": [
              "Syncing run <strong><a href='https://wandb.ai/e-rahpeyma92-kntu/uncategorized/runs/2pjayrzi' target=\"_blank\">frosty-microwave-3</a></strong> to <a href='https://wandb.ai/e-rahpeyma92-kntu/uncategorized' target=\"_blank\">Weights & Biases</a> (<a href='https://wandb.me/developer-guide' target=\"_blank\">docs</a>)<br>"
            ]
          },
          "metadata": {}
        },
        {
          "output_type": "display_data",
          "data": {
            "text/plain": [
              "<IPython.core.display.HTML object>"
            ],
            "text/html": [
              " View project at <a href='https://wandb.ai/e-rahpeyma92-kntu/uncategorized' target=\"_blank\">https://wandb.ai/e-rahpeyma92-kntu/uncategorized</a>"
            ]
          },
          "metadata": {}
        },
        {
          "output_type": "display_data",
          "data": {
            "text/plain": [
              "<IPython.core.display.HTML object>"
            ],
            "text/html": [
              " View run at <a href='https://wandb.ai/e-rahpeyma92-kntu/uncategorized/runs/2pjayrzi' target=\"_blank\">https://wandb.ai/e-rahpeyma92-kntu/uncategorized/runs/2pjayrzi</a>"
            ]
          },
          "metadata": {}
        },
        {
          "output_type": "execute_result",
          "data": {
            "text/html": [
              "<button onClick=\"this.nextSibling.style.display='block';this.style.display='none';\">Display W&B run</button><iframe src='https://wandb.ai/e-rahpeyma92-kntu/uncategorized/runs/2pjayrzi?jupyter=true' style='border:none;width:100%;height:420px;display:none;'></iframe>"
            ],
            "text/plain": [
              "<wandb.sdk.wandb_run.Run at 0x7911b8622cd0>"
            ]
          },
          "metadata": {},
          "execution_count": 15
        }
      ]
    },
    {
      "cell_type": "code",
      "source": [
        "!cp /content/FedCola/scripts/flickr.sh /content/FedCola/"
      ],
      "metadata": {
        "id": "KQajVnTLQovJ"
      },
      "execution_count": 16,
      "outputs": []
    },
    {
      "cell_type": "code",
      "source": [
        "!rm -rf /content/FedCola/data/flickr30k/flickr30k_imagesk"
      ],
      "metadata": {
        "id": "LhMEp4F_ova6"
      },
      "execution_count": 30,
      "outputs": []
    },
    {
      "cell_type": "code",
      "source": [
        "!pip install torchmultimodal-nightly"
      ],
      "metadata": {
        "id": "AjeVHSoJnauR"
      },
      "execution_count": null,
      "outputs": []
    },
    {
      "cell_type": "code",
      "source": [
        "!cd /content/FedCola/ && bash flickr.sh"
      ],
      "metadata": {
        "colab": {
          "base_uri": "https://localhost:8080/"
        },
        "id": "6u-6bR51QbhC",
        "outputId": "a15c6012-36ce-407a-e1c7-a4c4a28cf870"
      },
      "execution_count": 40,
      "outputs": [
        {
          "output_type": "stream",
          "name": "stdout",
          "text": [
            "[INFO] (2025/05/18 09:24:32 AM) [WELCOME] Initialize...\n",
            "[INFO] (2025/05/18 09:24:32 AM) \n",
            "    _______ _______ ______  _______  ______ _______ _______ _______ ______ \n",
            "    |______ |______ |     \\ |______ |_____/ |_____|    |    |______ |     \\\n",
            "    |       |_______|_____/_|_______|__ _\\_ |_ ___|_ __|  _ |______ |_____/\n",
            "        |      |______ |_____| |_____/ | \\  |   |   | \\  | |  ____        \n",
            "        |_____ |______ |     | |    \\_ |  \\_| __|__ |  \\_| |_____|        \n",
            "                                                                    \n",
            "                        Originally by. vaseline555 (Adam) \n",
            "                        Modified to MM by. imGuangyu (Guangyu)\n",
            "    \n",
            "\u001b[34m\u001b[1mwandb\u001b[0m: Currently logged in as: \u001b[33me-rahpeyma92\u001b[0m (\u001b[33me-rahpeyma92-kntu\u001b[0m) to \u001b[32mhttps://api.wandb.ai\u001b[0m. Use \u001b[1m`wandb login --relogin`\u001b[0m to force relogin\n",
            "\u001b[34m\u001b[1mwandb\u001b[0m: Tracking run with wandb version 0.19.11\n",
            "\u001b[34m\u001b[1mwandb\u001b[0m: Run data is saved locally in \u001b[35m\u001b[1m/content/FedCola/wandb/run-20250518_092432-swmkb6fx\u001b[0m\n",
            "\u001b[34m\u001b[1mwandb\u001b[0m: Run \u001b[1m`wandb offline`\u001b[0m to turn off syncing.\n",
            "\u001b[34m\u001b[1mwandb\u001b[0m: Syncing run \u001b[33mFedAVG_none_dataset_none_none_none_250518_092432\u001b[0m\n",
            "\u001b[34m\u001b[1mwandb\u001b[0m: ⭐️ View project at \u001b[34m\u001b[4mhttps://wandb.ai/e-rahpeyma92-kntu/fl_test_1\u001b[0m\n",
            "\u001b[34m\u001b[1mwandb\u001b[0m: 🚀 View run at \u001b[34m\u001b[4mhttps://wandb.ai/e-rahpeyma92-kntu/fl_test_1/runs/swmkb6fx\u001b[0m\n",
            "[INFO] (2025/05/18 09:24:32 AM) [SEED] ...seed is set: 1!\n",
            "/usr/local/lib/python3.8/dist-packages/huggingface_hub/file_download.py:943: FutureWarning: `resume_download` is deprecated and will be removed in version 1.0.0. Downloads always resume when possible. If you want to force a new download, use `force_download=True`.\n",
            "  warnings.warn(\n",
            "[INFO] (2025/05/18 09:24:33 AM) [LOAD] Fetch dataset!\n",
            "[INFO] (2025/05/18 09:24:33 AM) [LOAD] [CIFAR100] Fetching dataset!\n",
            "Files already downloaded and verified\n",
            "Files already downloaded and verified\n",
            "[INFO] (2025/05/18 09:24:36 AM) [LOAD] [CIFAR100] ...fetched dataset!\n",
            "[INFO] (2025/05/18 09:24:36 AM) [LOAD] ...successfully fetched dataset!\n",
            "[INFO] (2025/05/18 09:24:36 AM) [SIMULATE] Simulate dataset split (split scenario: `DIRI`)!\n",
            "[INFO] (2025/05/18 09:24:36 AM) [SIMULATE] ...done simulating dataset split (split scenario: `DIRI`)!\n",
            "[INFO] (2025/05/18 09:24:36 AM) [SIMULATE] Create client datasets!\n",
            "[INFO] (2025/05/18 09:24:36 AM) [SIMULATE] ...creating client datasets... : 100% 12/12 [00:00<00:00, 35320.45it/s]\n",
            "\n",
            "[INFO] (2025/05/18 09:24:36 AM) [SIMULATE] ...successfully created client datasets!\n",
            "[INFO] (2025/05/18 09:24:36 AM) [LOAD] Fetch dataset!\n",
            "[INFO] (2025/05/18 09:24:36 AM) [LOAD] [AG_NEWS] Start downloading files!\n",
            "[INFO] (2025/05/18 09:24:36 AM) [LOAD] [AG_NEWS] ...downloaded files!\n",
            "[INFO] (2025/05/18 09:24:36 AM) [LOAD] [AG_NEWS] Extract archived files!\n",
            "[INFO] (2025/05/18 09:24:36 AM) [LOAD] [AG_NEWS] ...successfully extracted archived files!\n",
            "[INFO] (2025/05/18 09:24:36 AM) [LOAD] [AG_NEWS] Create trainig & test set!\n",
            "[INFO] (2025/05/18 09:24:54 AM) [LOAD] ...successfully fetched dataset!\n",
            "[INFO] (2025/05/18 09:24:54 AM) [SIMULATE] Simulate dataset split (split scenario: `DIRI`)!\n",
            "[INFO] (2025/05/18 09:24:54 AM) [SIMULATE] ...done simulating dataset split (split scenario: `DIRI`)!\n",
            "[INFO] (2025/05/18 09:24:54 AM) [SIMULATE] Create client datasets!\n",
            "[INFO] (2025/05/18 09:24:54 AM) [SIMULATE] ...creating client datasets... : 100% 12/12 [00:00<00:00, 48210.39it/s]\n",
            "\n",
            "[INFO] (2025/05/18 09:24:54 AM) [SIMULATE] ...successfully created client datasets!\n",
            "[INFO] (2025/05/18 09:24:54 AM) [LOAD] Fetch dataset!\n",
            "[INFO] (2025/05/18 09:24:54 AM) [LOAD] [FLICKR] Fetching dataset!\n",
            "[INFO] (2025/05/18 09:24:54 AM) [LOAD] [FLICKR] ...fetched dataset!\n",
            "[INFO] (2025/05/18 09:24:54 AM) [LOAD] ...successfully fetched dataset!\n",
            "[INFO] (2025/05/18 09:24:54 AM) [CONFIG] List up configurations...\n",
            "[INFO] (2025/05/18 09:24:54 AM) [CONFIG] - GOAL: YourGoal\n",
            "[INFO] (2025/05/18 09:24:54 AM) [CONFIG] - EXP_NAME: FedAVG\n",
            "[INFO] (2025/05/18 09:24:54 AM) [CONFIG] - SEED: 1\n",
            "[INFO] (2025/05/18 09:24:54 AM) [CONFIG] - SERVER_DEVICE: cpu\n",
            "[INFO] (2025/05/18 09:24:54 AM) [CONFIG] - DATA_PATH: /content/FedCola/data/flickr30k\n",
            "[INFO] (2025/05/18 09:24:54 AM) [CONFIG] - MODALITY: img+txt\n",
            "[INFO] (2025/05/18 09:24:54 AM) [CONFIG] - LOG_PATH: ./log\n",
            "[INFO] (2025/05/18 09:24:54 AM) [CONFIG] - RESULT_PATH: ./result/FedAVG_250518_092432\n",
            "[INFO] (2025/05/18 09:24:54 AM) [CONFIG] - USE_TB: False\n",
            "[INFO] (2025/05/18 09:24:54 AM) [CONFIG] - TB_PORT: 6006\n",
            "[INFO] (2025/05/18 09:24:54 AM) [CONFIG] - TB_HOST: 0.0.0.0\n",
            "[INFO] (2025/05/18 09:24:54 AM) [CONFIG] - DISTRIBUTED: False\n",
            "[INFO] (2025/05/18 09:24:54 AM) [CONFIG] - MM_DISTRIBUTED: False\n",
            "[INFO] (2025/05/18 09:24:54 AM) [CONFIG] - MP: False\n",
            "[INFO] (2025/05/18 09:24:54 AM) [CONFIG] - DATASET: Flickr30k\n",
            "[INFO] (2025/05/18 09:24:54 AM) [CONFIG] - TEST_SIZE: -1.0\n",
            "[INFO] (2025/05/18 09:24:54 AM) [CONFIG] - RAWSMPL: 1.0\n",
            "[INFO] (2025/05/18 09:24:54 AM) [CONFIG] - RESIZE: 224\n",
            "[INFO] (2025/05/18 09:24:54 AM) [CONFIG] - CROP: None\n",
            "[INFO] (2025/05/18 09:24:54 AM) [CONFIG] - IMNORM: True\n",
            "[INFO] (2025/05/18 09:24:54 AM) [CONFIG] - RANDROT: None\n",
            "[INFO] (2025/05/18 09:24:54 AM) [CONFIG] - RANDHF: None\n",
            "[INFO] (2025/05/18 09:24:54 AM) [CONFIG] - RANDVF: None\n",
            "[INFO] (2025/05/18 09:24:54 AM) [CONFIG] - RANDJIT: None\n",
            "[INFO] (2025/05/18 09:24:54 AM) [CONFIG] - SPLIT_TYPE: diri\n",
            "[INFO] (2025/05/18 09:24:54 AM) [CONFIG] - MINCLS: 2\n",
            "[INFO] (2025/05/18 09:24:54 AM) [CONFIG] - CNCNTRTN: 0.5\n",
            "[INFO] (2025/05/18 09:24:54 AM) [CONFIG] - MULTI_TASK: True\n",
            "[INFO] (2025/05/18 09:24:54 AM) [CONFIG] - DEBUG: False\n",
            "[INFO] (2025/05/18 09:24:54 AM) [CONFIG] - PRETRAINED: True\n",
            "[INFO] (2025/05/18 09:24:54 AM) [CONFIG] - DATASETS: ['CIFAR100', 'AG_NEWS', 'Flickr30k']\n",
            "[INFO] (2025/05/18 09:24:54 AM) [CONFIG] - DATA_PATHS: ['/content/FedCola/data/cifar100', '/content/FedCola/data/agnews', '/content/FedCola/data/flickr30k']\n",
            "[INFO] (2025/05/18 09:24:54 AM) [CONFIG] - MODALITIES: ['img', 'txt', 'img+txt', 'img+txt']\n",
            "[INFO] (2025/05/18 09:24:54 AM) [CONFIG] - KS: [12, 12, 8]\n",
            "[INFO] (2025/05/18 09:24:54 AM) [CONFIG] - CS: 0.25\n",
            "[INFO] (2025/05/18 09:24:54 AM) [CONFIG] - SHARED_PARAM: none\n",
            "[INFO] (2025/05/18 09:24:54 AM) [CONFIG] - SHARE_SCOPE: dataset\n",
            "[INFO] (2025/05/18 09:24:54 AM) [CONFIG] - COLEARN_PARAM: none\n",
            "[INFO] (2025/05/18 09:24:54 AM) [CONFIG] - COMPENSATION: False\n",
            "[INFO] (2025/05/18 09:24:54 AM) [CONFIG] - REDUCE_SAMPLES: 50000\n",
            "[INFO] (2025/05/18 09:24:54 AM) [CONFIG] - REDUCE_TEST_SAMPLES: -1\n",
            "[INFO] (2025/05/18 09:24:54 AM) [CONFIG] - REDUCE_SAMPLES_SEG_SCALE: -1\n",
            "[INFO] (2025/05/18 09:24:54 AM) [CONFIG] - REDUCE_SAMPLES_CLS_SCALE: -1\n",
            "[INFO] (2025/05/18 09:24:54 AM) [CONFIG] - NUM_THREAD: 8\n",
            "[INFO] (2025/05/18 09:24:54 AM) [CONFIG] - NUM_TRANSFORMER_LAYERS: 12\n",
            "[INFO] (2025/05/18 09:24:54 AM) [CONFIG] - EQUAL_SAMPLED: True\n",
            "[INFO] (2025/05/18 09:24:54 AM) [CONFIG] - WARMUP_MODALITY: none\n",
            "[INFO] (2025/05/18 09:24:54 AM) [CONFIG] - WARMUP_ROUNDS: 5\n",
            "[INFO] (2025/05/18 09:24:54 AM) [CONFIG] - FREEZE_MODALITY: none\n",
            "[INFO] (2025/05/18 09:24:54 AM) [CONFIG] - FREEZE_ROUNDS: 5\n",
            "[INFO] (2025/05/18 09:24:54 AM) [CONFIG] - OUT_MODALITY_SCALES: [1, 1, 1]\n",
            "[INFO] (2025/05/18 09:24:54 AM) [CONFIG] - FEDAVG_EVAL: False\n",
            "[INFO] (2025/05/18 09:24:54 AM) [CONFIG] - WITH_AUX: False\n",
            "[INFO] (2025/05/18 09:24:54 AM) [CONFIG] - AUX_TRAINED: False\n",
            "[INFO] (2025/05/18 09:24:54 AM) [CONFIG] - AUX_ATTN_ONLY: False\n",
            "[INFO] (2025/05/18 09:24:54 AM) [CONFIG] - AUX_MLP_ONLY: False\n",
            "[INFO] (2025/05/18 09:24:54 AM) [CONFIG] - FLICKR_TRAIN_ALL: False\n",
            "[INFO] (2025/05/18 09:24:54 AM) [CONFIG] - V_EPOCH: 5\n",
            "[INFO] (2025/05/18 09:24:54 AM) [CONFIG] - SUPERVISED: False\n",
            "[INFO] (2025/05/18 09:24:54 AM) [CONFIG] - TRAIN_AS_VAL: False\n",
            "[INFO] (2025/05/18 09:24:54 AM) [CONFIG] - PUB_DATA_DIR: data/coco/all_images/\n",
            "[INFO] (2025/05/18 09:24:54 AM) [CONFIG] - PUB_ANNO_PATH: data/coco/annotations/captions_val2014.json\n",
            "[INFO] (2025/05/18 09:24:54 AM) [CONFIG] - NUM_PUB_SAMPLES: 500\n",
            "[INFO] (2025/05/18 09:24:54 AM) [CONFIG] - PUB_BATCH_SIZE: 64\n",
            "[INFO] (2025/05/18 09:24:54 AM) [CONFIG] - P_LR: 0.0001\n",
            "[INFO] (2025/05/18 09:24:54 AM) [CONFIG] - INTERINTRA_WEIGHT: 0.5\n",
            "[INFO] (2025/05/18 09:24:54 AM) [CONFIG] - KD_WEIGHT: 0.3\n",
            "[INFO] (2025/05/18 09:24:54 AM) [CONFIG] - NO_MM_CONTRASTIVE: False\n",
            "[INFO] (2025/05/18 09:24:54 AM) [CONFIG] - MM_SCALE: 100\n",
            "[INFO] (2025/05/18 09:24:54 AM) [CONFIG] - MODEL_NAME: mome_small_patch16\n",
            "[INFO] (2025/05/18 09:24:54 AM) [CONFIG] - HIDDEN_SIZE: 64\n",
            "[INFO] (2025/05/18 09:24:54 AM) [CONFIG] - DROPOUT: 0.1\n",
            "[INFO] (2025/05/18 09:24:54 AM) [CONFIG] - USE_MODEL_TOKENIZER: False\n",
            "[INFO] (2025/05/18 09:24:54 AM) [CONFIG] - USE_BERT_TOKENIZER: True\n",
            "[INFO] (2025/05/18 09:24:54 AM) [CONFIG] - VOCAB_SIZE: 30522\n",
            "[INFO] (2025/05/18 09:24:54 AM) [CONFIG] - USE_PT_MODEL: False\n",
            "[INFO] (2025/05/18 09:24:54 AM) [CONFIG] - SEQ_LEN: 40\n",
            "[INFO] (2025/05/18 09:24:54 AM) [CONFIG] - NUM_LAYERS: 2\n",
            "[INFO] (2025/05/18 09:24:54 AM) [CONFIG] - NUM_EMBEDDINGS: 30522\n",
            "[INFO] (2025/05/18 09:24:54 AM) [CONFIG] - EMBEDDING_SIZE: 512\n",
            "[INFO] (2025/05/18 09:24:54 AM) [CONFIG] - INIT_TYPE: kaiming\n",
            "[INFO] (2025/05/18 09:24:54 AM) [CONFIG] - INIT_GAIN: 1.0\n",
            "[INFO] (2025/05/18 09:24:54 AM) [CONFIG] - ALGORITHM: fedavg\n",
            "[INFO] (2025/05/18 09:24:54 AM) [CONFIG] - EVAL_TYPE: global\n",
            "[INFO] (2025/05/18 09:24:54 AM) [CONFIG] - EVAL_FRACTION: 1.0\n",
            "[INFO] (2025/05/18 09:24:54 AM) [CONFIG] - EVAL_EVERY: 1\n",
            "[INFO] (2025/05/18 09:24:54 AM) [CONFIG] - EVAL_METRICS: ['acc1']\n",
            "[INFO] (2025/05/18 09:24:54 AM) [CONFIG] - K: 32\n",
            "[INFO] (2025/05/18 09:24:54 AM) [CONFIG] - R: 30\n",
            "[INFO] (2025/05/18 09:24:54 AM) [CONFIG] - C: 0.25\n",
            "[INFO] (2025/05/18 09:24:54 AM) [CONFIG] - E: 5\n",
            "[INFO] (2025/05/18 09:24:54 AM) [CONFIG] - B: 112\n",
            "[INFO] (2025/05/18 09:24:54 AM) [CONFIG] - EVAL_BATCH_SIZE: 512\n",
            "[INFO] (2025/05/18 09:24:54 AM) [CONFIG] - BETA1: 0.0\n",
            "[INFO] (2025/05/18 09:24:54 AM) [CONFIG] - NO_SHUFFLE: False\n",
            "[INFO] (2025/05/18 09:24:54 AM) [CONFIG] - OPTIMIZER: AdamW\n",
            "[INFO] (2025/05/18 09:24:54 AM) [CONFIG] - MAX_GRAD_NORM: 0.0\n",
            "[INFO] (2025/05/18 09:24:54 AM) [CONFIG] - WEIGHT_DECAY: 0\n",
            "[INFO] (2025/05/18 09:24:54 AM) [CONFIG] - MOMENTUM: 0.0\n",
            "[INFO] (2025/05/18 09:24:54 AM) [CONFIG] - NESTEROV: False\n",
            "[INFO] (2025/05/18 09:24:54 AM) [CONFIG] - LR: 0.0001\n",
            "[INFO] (2025/05/18 09:24:54 AM) [CONFIG] - LR_DECAY: 0.99\n",
            "[INFO] (2025/05/18 09:24:54 AM) [CONFIG] - LR_DECAY_STEP: 1\n",
            "[INFO] (2025/05/18 09:24:54 AM) [CONFIG] - CRITERION: CrossEntropyLoss\n",
            "[INFO] (2025/05/18 09:24:54 AM) [CONFIG] - MU: 0.01\n",
            "[INFO] (2025/05/18 09:24:54 AM) [CONFIG] - IN_CHANNELS: 3\n",
            "[INFO] (2025/05/18 09:24:54 AM) [CONFIG] - NUM_CLASSES: None\n",
            "[INFO] (2025/05/18 09:24:54 AM) [CONFIG] - GLOVE_EMB: NOT USE!\n",
            "[INFO] (2025/05/18 09:24:54 AM) [CONFIG] - TRAIN_ONLY: False\n",
            "[INFO] (2025/05/18 09:24:54 AM) [CONFIG] - IS_SEQ2SEQ: False\n",
            "\n",
            "[INFO] (2025/05/18 09:24:58 AM) [FEDAVG] [Round: 0000] Create clients!\n",
            "[INFO] (2025/05/18 09:24:58 AM) [FEDAVG][Round: 0000] ...creating clients... : 100% 24/24 [00:00<00:00, 5878.49it/s]\n",
            "\n",
            "[INFO] (2025/05/18 09:24:58 AM) [FEDAVG] [FLICKR30K] [Round: 0000] ...sucessfully created 32 clients!\n",
            "[INFO] (2025/05/18 09:24:58 AM) [FEDAVG] [Round: 0001] Sample clients!\n",
            "[INFO] (2025/05/18 09:24:58 AM) [FEDAVG] [Round: 0001] ...3 clients are selected!\n",
            "[INFO] (2025/05/18 09:24:58 AM) [FEDAVG] [Round: 0001] Request updates to 6 clients!\n",
            "[INFO] (2025/05/18 09:24:58 AM) [FEDAVG] [Round: 0001] ...update clients... : 100% 6/6 [00:00<00:00, 91.33it/s]\n",
            "\n",
            "[INFO] (2025/05/18 09:24:59 AM) [CLS] [IMG] ...working on client 1... \n",
            "[INFO] (2025/05/18 09:24:59 AM) [CLS] [IMG] ...working on client 2... \n",
            "[INFO] (2025/05/18 09:24:59 AM) [CLS] [IMG] ...working on client 9... \n",
            "[INFO] (2025/05/18 09:24:59 AM) [CLS] [TXT] ...working on client 13... \n",
            "[INFO] (2025/05/18 09:24:59 AM) [CLS] [TXT] ...working on client 16... \n",
            "[INFO] (2025/05/18 09:24:59 AM) [CLS] [TXT] ...working on client 19... \n",
            "flickr.sh: line 12: 22908 Killed                  python3 main.py --exp_name FedAVG --shared_param none --share_scope dataset --colearn_param none --seed 1 --multi-task --datasets CIFAR100 AG_NEWS Flickr30k --modalities img txt img+txt img+txt --data_paths /content/FedCola/data/cifar100 /content/FedCola/data/agnews /content/FedCola/data/flickr30k --Ks $ic $tc $mc --test_size -1 --split_type diri --cncntrtn $cncntrtn --model_name mome_small_patch16 --resize 224 --imnorm --algorithm fedavg --eval_type global --eval_every 1 --eval_metrics acc1 --R 30 --C $c --E 5 --B 112 --beta1 0 --optimizer AdamW --lr 1e-4 --lr_decay 0.99 --lr_decay_step 1 --criterion CrossEntropyLoss --num_thread 8 --use_bert_tokenizer --pretrained --goal $goal --equal_sampled --eval_batch_size 512\n"
          ]
        }
      ]
    }
  ]
}